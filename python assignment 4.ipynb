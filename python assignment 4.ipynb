{
 "cells": [
  {
   "cell_type": "markdown",
   "metadata": {},
   "source": [
    "### 1.1 Write a Python Program(with class concepts) to find the area of the triangle using the belowformula.\n",
    "### area = (s*(s-a)*(s-b)*(s-c)) ** 0.5\n",
    "### Function to take the length of the sides of triangle from user should be defined in the parent\n",
    "### class and function to calculate the area should be defined in subclass."
   ]
  },
  {
   "cell_type": "code",
   "execution_count": 1,
   "metadata": {},
   "outputs": [
    {
     "name": "stdout",
     "output_type": "stream",
     "text": [
      "Enter 1st length(cm) :10\n",
      "Enter 2nd length(cm) :8\n",
      "Enter 3rd length(cm) :9\n",
      "Area of Triangle : 34.197039345533994 cm-sq\n"
     ]
    }
   ],
   "source": [
    "class fea_triangle():\n",
    "    def __init__ (self):\n",
    "        self.a = int(input('Enter 1st length(cm) :'))\n",
    "        self.b = int(input('Enter 2nd length(cm) :'))\n",
    "        self.c = int(input('Enter 3rd length(cm) :'))\n",
    "        self.s = (self.a+self.b+self.c)/2\n",
    "        \n",
    "class triangle(fea_triangle):\n",
    "    def area_of_triangle(self):\n",
    "        return((self.s*(self.s-self.a)*(self.s-self.b)*(self.s-self.c))**0.5)\n",
    "\n",
    "tri = triangle()\n",
    "\n",
    "print('Area of Triangle : ' + str(tri.area_of_triangle())+' cm-sq')"
   ]
  },
  {
   "cell_type": "code",
   "execution_count": null,
   "metadata": {},
   "outputs": [],
   "source": []
  },
  {
   "cell_type": "markdown",
   "metadata": {},
   "source": [
    "### 1.2 Write a function filter_long_words() that takes a list of words and an integer n and returns\n",
    "### the list of words that are longer than n."
   ]
  },
  {
   "cell_type": "code",
   "execution_count": 2,
   "metadata": {},
   "outputs": [
    {
     "name": "stdout",
     "output_type": "stream",
     "text": [
      "enter The Length Of The Word :8\n",
      "['character', 'otherwise']\n"
     ]
    }
   ],
   "source": [
    "n = int(input('enter The Length Of The Word :'))\n",
    "\n",
    "words = ['longer', 'Python', 'Program', 'function', 'character', 'otherwise', 'formula', 'triangle', 'subclass']\n",
    "    \n",
    "print(list(filter(lambda x : len(x) > n, words)))"
   ]
  },
  {
   "cell_type": "markdown",
   "metadata": {},
   "source": [
    "#### OR"
   ]
  },
  {
   "cell_type": "code",
   "execution_count": 3,
   "metadata": {},
   "outputs": [
    {
     "name": "stdout",
     "output_type": "stream",
     "text": [
      "enter The Length Of The Word :8\n",
      "['character', 'otherwise']\n"
     ]
    }
   ],
   "source": [
    "n = int(input('enter The Length Of The Word :'))\n",
    "\n",
    "def filter_long_words(lis , n):\n",
    "    return [i for i in lis if len(i) > n]\n",
    "\n",
    "words = ['longer', 'Python', 'Program', 'function', 'character', 'otherwise', 'formula', 'triangle', 'subclass']\n",
    "    \n",
    "print(filter_long_words(words , n))"
   ]
  },
  {
   "cell_type": "code",
   "execution_count": null,
   "metadata": {},
   "outputs": [],
   "source": []
  },
  {
   "cell_type": "markdown",
   "metadata": {},
   "source": [
    "### 2.1 Write a Python program using function concept that maps list of words into a list of integers\n",
    "### representing the lengths of the corresponding words.\n"
   ]
  },
  {
   "cell_type": "code",
   "execution_count": 4,
   "metadata": {},
   "outputs": [
    {
     "name": "stdout",
     "output_type": "stream",
     "text": [
      "[6, 6, 7, 8, 9, 9, 7, 8, 8]\n"
     ]
    }
   ],
   "source": [
    "def find_length(word):\n",
    "    return len(word)\n",
    "\n",
    "words = ['longer', 'Python', 'Program', 'function', 'character', 'otherwise', 'formula', 'triangle', 'subclass']\n",
    "\n",
    "print(list(map(find_length, words)))"
   ]
  },
  {
   "cell_type": "markdown",
   "metadata": {},
   "source": [
    "#### OR"
   ]
  },
  {
   "cell_type": "code",
   "execution_count": 5,
   "metadata": {},
   "outputs": [
    {
     "name": "stdout",
     "output_type": "stream",
     "text": [
      "[6, 6, 7, 8, 9, 9, 7, 8, 8]\n"
     ]
    }
   ],
   "source": [
    "def find_length(words):\n",
    "    return [len(i) for i in words]\n",
    "\n",
    "words = ['longer', 'Python', 'Program', 'function', 'character', 'otherwise', 'formula', 'triangle', 'subclass']\n",
    "\n",
    "print(find_length(words))"
   ]
  },
  {
   "cell_type": "markdown",
   "metadata": {},
   "source": [
    "### 2.2 Write a Python function which takes a character (i.e. a string of length 1) and returns True if\n",
    "### it is a vowel, False otherwise."
   ]
  },
  {
   "cell_type": "code",
   "execution_count": 6,
   "metadata": {},
   "outputs": [
    {
     "name": "stdout",
     "output_type": "stream",
     "text": [
      "Enter a Character :a\n",
      "True\n"
     ]
    }
   ],
   "source": [
    "def cheak_vowel(cha):\n",
    "    if cha in ['a','e','i','o','u']:\n",
    "        return True\n",
    "    else:\n",
    "        return False\n",
    "    \n",
    "string = str(input('Enter a Character :'))\n",
    "\n",
    "print(cheak_vowel(string))"
   ]
  },
  {
   "cell_type": "code",
   "execution_count": null,
   "metadata": {},
   "outputs": [],
   "source": []
  },
  {
   "cell_type": "code",
   "execution_count": null,
   "metadata": {},
   "outputs": [],
   "source": []
  }
 ],
 "metadata": {
  "kernelspec": {
   "display_name": "Python 3",
   "language": "python",
   "name": "python3"
  },
  "language_info": {
   "codemirror_mode": {
    "name": "ipython",
    "version": 3
   },
   "file_extension": ".py",
   "mimetype": "text/x-python",
   "name": "python",
   "nbconvert_exporter": "python",
   "pygments_lexer": "ipython3",
   "version": "3.8.3"
  }
 },
 "nbformat": 4,
 "nbformat_minor": 4
}
